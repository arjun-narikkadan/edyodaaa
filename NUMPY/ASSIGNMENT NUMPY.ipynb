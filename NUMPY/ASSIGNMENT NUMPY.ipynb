{
 "cells": [
  {
   "cell_type": "code",
   "execution_count": 29,
   "id": "808e0d1e",
   "metadata": {},
   "outputs": [],
   "source": [
    "## ASSIGNMENT NUMPY "
   ]
  },
  {
   "cell_type": "code",
   "execution_count": null,
   "id": "931bec4b",
   "metadata": {},
   "outputs": [],
   "source": [
    "## question number 1\n",
    "\n",
    "import numpy as np\n",
    "x = np.zeros(10)\n",
    "x[6] = 11\n",
    "print(x)"
   ]
  },
  {
   "cell_type": "code",
   "execution_count": 12,
   "id": "3babb6ae",
   "metadata": {},
   "outputs": [
    {
     "name": "stdout",
     "output_type": "stream",
     "text": [
      "[10 11 12 13 14 15 16 17 18 19 20 21 22 23 24 25 26 27 28 29 30 31 32 33\n",
      " 34 35 36 37 38 39 40 41 42 43 44 45 46 47 48 49]\n"
     ]
    }
   ],
   "source": [
    "## uestion number 2\n",
    "\n",
    "import numpy as np\n",
    "v = np.arange(10,50)\n",
    "print(v)\n"
   ]
  },
  {
   "cell_type": "code",
   "execution_count": 13,
   "id": "fe7a1415",
   "metadata": {},
   "outputs": [
    {
     "name": "stdout",
     "output_type": "stream",
     "text": [
      "[[0 1 2]\n",
      " [3 4 5]\n",
      " [6 7 8]]\n"
     ]
    }
   ],
   "source": [
    "## question number 3\n",
    "\n",
    "import numpy as np\n",
    "x =  np.arange(0, 9).reshape(3,3)\n",
    "print(x)"
   ]
  },
  {
   "cell_type": "code",
   "execution_count": 14,
   "id": "6ca2ace8",
   "metadata": {},
   "outputs": [
    {
     "name": "stdout",
     "output_type": "stream",
     "text": [
      "[1 2 0 0 4 0]\n",
      "Indices of elements not equal to zero of the array:\n",
      "[0 1 4]\n"
     ]
    }
   ],
   "source": [
    "## question number 4\n",
    "\n",
    "import numpy as np\n",
    "nums = np.array([1,2,0,0,4,0])\n",
    "print(nums)\n",
    "print(\"Indices of elements not equal to zero of the array:\")\n",
    "result = np.where(nums != 0)[0]\n",
    "print(result)"
   ]
  },
  {
   "cell_type": "code",
   "execution_count": 15,
   "id": "2d67a25d",
   "metadata": {},
   "outputs": [
    {
     "name": "stdout",
     "output_type": "stream",
     "text": [
      "Original Array:\n",
      "[[0.65621268 0.20650877 0.1633411  0.50052604 0.66738272 0.40286498\n",
      "  0.45128082 0.61952579 0.26360729 0.62213047]\n",
      " [0.44880213 0.09242951 0.0465404  0.96618976 0.91471543 0.27118663\n",
      "  0.84235957 0.6196329  0.60335472 0.39299676]\n",
      " [0.27583222 0.66822285 0.35834737 0.01174247 0.69998193 0.55922624\n",
      "  0.43589308 0.30679804 0.69971821 0.93521284]\n",
      " [0.88120516 0.42315988 0.46860093 0.38335793 0.80234553 0.97151088\n",
      "  0.59333486 0.36517712 0.8470187  0.01627357]\n",
      " [0.35078647 0.93478613 0.15048682 0.84085512 0.58093267 0.66371274\n",
      "  0.97876033 0.56678794 0.59095633 0.75293861]\n",
      " [0.25088989 0.4790779  0.23330403 0.70494808 0.03115846 0.55557237\n",
      "  0.68458024 0.16229589 0.93818457 0.88304395]\n",
      " [0.21376078 0.40328388 0.62693416 0.19868978 0.35350735 0.55264483\n",
      "  0.84823698 0.51486832 0.58167197 0.57435525]\n",
      " [0.96629405 0.95013592 0.93850679 0.66751387 0.59509677 0.98319097\n",
      "  0.0328027  0.38479433 0.98250134 0.80830161]\n",
      " [0.53078144 0.03654255 0.49422337 0.42344527 0.62137607 0.74254128\n",
      "  0.5673518  0.37638106 0.5017556  0.79965017]\n",
      " [0.98269074 0.40522688 0.56129007 0.12771895 0.46655574 0.83155405\n",
      "  0.24505313 0.86225476 0.02547556 0.45644582]]\n",
      "Minimum and Maximum Values:\n",
      "0.011742468998318767 0.983190972742279\n"
     ]
    }
   ],
   "source": [
    "##question number 5\n",
    "\n",
    "import numpy as np\n",
    "x = np.random.random((10,10))\n",
    "print(\"Original Array:\")\n",
    "print(x) \n",
    "xmin, xmax = x.min(), x.max()\n",
    "print(\"Minimum and Maximum Values:\")\n",
    "print(xmin, xmax)"
   ]
  },
  {
   "cell_type": "code",
   "execution_count": 20,
   "id": "db439033",
   "metadata": {},
   "outputs": [
    {
     "name": "stdout",
     "output_type": "stream",
     "text": [
      "[0.62253498 0.68931631 0.72010829 0.84755219 0.29470583 0.89010501\n",
      " 0.64409176 0.2275499  0.10569454 0.48213462 0.76883266 0.90710133\n",
      " 0.23145663 0.38464955 0.82920825 0.30970771 0.34461108 0.693529\n",
      " 0.29519354 0.2454031  0.17399713 0.07915247 0.2678695  0.1204523\n",
      " 0.19184171 0.68879396 0.66482446 0.03820809 0.91201625 0.0125044 ]\n",
      "mean of the random vector is\n",
      "0.456104885460355\n"
     ]
    }
   ],
   "source": [
    "## question number 6\n",
    "\n",
    "import numpy as np\n",
    "x = np.random.random(30)\n",
    "print(x)\n",
    "print(\"mean of the random vector is\")\n",
    "m = x.mean()\n",
    "print(m)\n",
    "\n"
   ]
  },
  {
   "cell_type": "code",
   "execution_count": null,
   "id": "5f5a0918",
   "metadata": {},
   "outputs": [],
   "source": []
  }
 ],
 "metadata": {
  "kernelspec": {
   "display_name": "Python 3 (ipykernel)",
   "language": "python",
   "name": "python3"
  },
  "language_info": {
   "codemirror_mode": {
    "name": "ipython",
    "version": 3
   },
   "file_extension": ".py",
   "mimetype": "text/x-python",
   "name": "python",
   "nbconvert_exporter": "python",
   "pygments_lexer": "ipython3",
   "version": "3.9.2"
  }
 },
 "nbformat": 4,
 "nbformat_minor": 5
}
